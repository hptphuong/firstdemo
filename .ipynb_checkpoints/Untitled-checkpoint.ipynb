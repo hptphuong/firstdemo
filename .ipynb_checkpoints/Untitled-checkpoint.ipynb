{
 "cells": [
  {
   "cell_type": "code",
   "execution_count": 11,
   "metadata": {
    "collapsed": true
   },
   "outputs": [],
   "source": [
    "try:\n",
    "    import base64\n",
    "except:\n",
    "    !pip install base64\n",
    "    import base64\n",
    "from django.http import HttpResponse   \n",
    "\n",
    "PIXEL_GIF_DATA = \"\"\"\n",
    "R0lGODlhAQABAIAAAAAAAP///yH5BAEAAAAALAAAAAABAAEAAAIBRAA7\n",
    "\"\"\".strip()\n",
    "PIXEL_GIF_DATA=base64.b64decode(PIXEL_GIF_DATA)\n",
    "\n",
    "def pixel_gif(request):\n",
    "    return HttpResponse(PIXEL_GIF_DATA, content_type='image/gif')"
   ]
  },
  {
   "cell_type": "code",
   "execution_count": 20,
   "metadata": {
    "collapsed": true
   },
   "outputs": [],
   "source": [
    "test_str = \"\"\"\n",
    "(function() {\n",
    "  var img = new Image,\n",
    "      // url = encodeURIComponent(document.location.href),\n",
    "      url = encodeURIComponent(\"https://phuonganalytic.herokuapp.com\"),\n",
    "      title = encodeURIComponent(document.title),\n",
    "      ref = encodeURIComponent(document.referrer);\n",
    "      img.src = 'phuonganalytic.herokuapp.com/a.gif?url=' + url + '&t=' + title + '&ref=' + ref;\n",
    "})();\n",
    "\"\"\""
   ]
  },
  {
   "cell_type": "code",
   "execution_count": 21,
   "metadata": {},
   "outputs": [
    {
     "data": {
      "text/plain": [
       "'\\n(function() {\\n  var img = new Image,\\n      // url = encodeURIComponent(document.location.href),\\n      url = encodeURIComponent(\"https://phuonganalytic.herokuapp.com\"),\\n      title = encodeURIComponent(document.title),\\n      ref = encodeURIComponent(document.referrer);\\n      img.src = \\'phuonganalytic.herokuapp.com/a.gif?url=\\' + url + \\'&t=\\' + title + \\'&ref=\\' + ref;\\n})();\\n'"
      ]
     },
     "execution_count": 21,
     "metadata": {},
     "output_type": "execute_result"
    }
   ],
   "source": [
    "test_str"
   ]
  }
 ],
 "metadata": {
  "kernelspec": {
   "display_name": "Python 3",
   "language": "python",
   "name": "python3"
  },
  "language_info": {
   "codemirror_mode": {
    "name": "ipython",
    "version": 3
   },
   "file_extension": ".py",
   "mimetype": "text/x-python",
   "name": "python",
   "nbconvert_exporter": "python",
   "pygments_lexer": "ipython3",
   "version": "3.6.1"
  }
 },
 "nbformat": 4,
 "nbformat_minor": 2
}
